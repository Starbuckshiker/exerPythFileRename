{
 "cells": [
  {
   "cell_type": "code",
   "execution_count": null,
   "metadata": {},
   "outputs": [],
   "source": [
    "import os\n",
    "\n",
    "# place path to file(s) in the \"\"\n",
    "os.chdir(\"\")\n",
    "\n",
    "# This will verify you are in the right directory\n",
    "print(os.getcwd())\n",
    "\n",
    "for f in os.listdir():\n",
    "    print(f)\n",
    "    #this verifies your all your files are here\n",
    "    \n",
    "    print(os.path.splittext(f))\n",
    "    #this gives you the file name and the extension\n",
    "    \n",
    "    file_name, file_ = os.path.splitext(f)\n",
    "    #This gives you just the file name\n",
    "    \n",
    "    print(file_name.split('-'))\n",
    "    #This gives you title, course name and number\n",
    "   \n",
    "    f_title, f_course, f_num = file_name.split('-')\n",
    "    #if you print these individually you get just the title, course or number ex. print(f_num)\n",
    "    \n",
    "    f_tile = f_title.strip()\n",
    "    f_course + f_course.strip()\n",
    "    f_num = f_num.strip()[1:].zfill(2)\n",
    "    \n",
    "    #print('{}-{}-{}{}'. format(f_num, f_course, f_title, f_ext))\n",
    "\n",
    "    new_name = '{}-{}{}'. format(f_num, f_course, f_title, f_ext))\n",
    "    \n",
    "    os.rename(f, new_name)\n",
    "    \n",
    "   \n",
    "    \n",
    "    \n",
    "    "
   ]
  }
 ],
 "metadata": {
  "kernelspec": {
   "display_name": "Python 3",
   "language": "python",
   "name": "python3"
  },
  "language_info": {
   "codemirror_mode": {
    "name": "ipython",
    "version": 3
   },
   "file_extension": ".py",
   "mimetype": "text/x-python",
   "name": "python",
   "nbconvert_exporter": "python",
   "pygments_lexer": "ipython3",
   "version": "3.8.3"
  }
 },
 "nbformat": 4,
 "nbformat_minor": 4
}
